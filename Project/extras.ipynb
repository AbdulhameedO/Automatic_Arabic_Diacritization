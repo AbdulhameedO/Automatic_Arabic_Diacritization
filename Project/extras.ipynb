{
 "cells": [
  {
   "cell_type": "code",
   "execution_count": null,
   "metadata": {},
   "outputs": [],
   "source": [
    "# Preprocess the dataset using bert tokenizer\n",
    "tokenized_text = tokenizer.tokenize(dataset)\n",
    "hf.write_pickle('tokenized_text.pickle', tokenized_text)\n",
    "\n",
    "tokenized_sentences = sent_tokenize(dataset)\n",
    "hf.write_pickle('tokenized_text_nltk.pickle', tokenized_sentences)"
   ]
  }
 ],
 "metadata": {
  "language_info": {
   "name": "python"
  }
 },
 "nbformat": 4,
 "nbformat_minor": 2
}

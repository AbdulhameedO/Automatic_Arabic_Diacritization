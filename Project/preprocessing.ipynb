{
 "cells": [
  {
   "cell_type": "markdown",
   "metadata": {},
   "source": [
    "<h1> Tashkeel </h1>"
   ]
  },
  {
   "cell_type": "markdown",
   "metadata": {},
   "source": [
    "This project is developed by Abdulhameed Osama, Hossam Nabil and Nourhan Mohamed as a part of the Natural Language Processing course (NLP) at Cairo University."
   ]
  },
  {
   "cell_type": "markdown",
   "metadata": {},
   "source": [
    "In this project a Bi-LSTM model is trained to predict the diacritics of Arabic text. The model is trained on a dataset of 18 million characters from various domains. The model is trained on Google Colab using a Tesla K80 GPU."
   ]
  },
  {
   "cell_type": "markdown",
   "metadata": {},
   "source": [
    "We achieved an accuracy of 96.5% on the test set."
   ]
  },
  {
   "cell_type": "markdown",
   "metadata": {},
   "source": [
    "The model starts with a character embedding layer, followed by a Bi-LSTM layer, then a dense layer and finally a softmax layer. The model is trained using the Adam optimizer and the categorical crossentropy loss function."
   ]
  },
  {
   "cell_type": "markdown",
   "metadata": {},
   "source": [
    "<h3> Imports </h3>"
   ]
  },
  {
   "cell_type": "code",
   "execution_count": null,
   "metadata": {},
   "outputs": [],
   "source": [
    "import numpy as np\n",
    "import pickle as pkl\n",
    "import helper_file as hf\n",
    "\n",
    "# Arabic Text Preprocessing\n",
    "# from transformers import AutoTokenizer\n",
    "\n",
    "# tokenizer = AutoTokenizer.from_pretrained(\"asafaya/bert-base-arabic\")\n",
    "\n",
    "from nltk.tokenize import word_tokenize, sent_tokenize\n",
    "\n",
    "\n",
    "import pyarabic.araby as araby\n",
    "# import pyarabic.number as number\n",
    "# from pyarabic.araby import strip_tashkeel, strip_tatweel, normalize_ligature\n",
    "# from pyarabic.araby import tokenize, is_arabicrange, is_arabicword\n",
    "\n",
    "# Arabic Stopwords\n",
    "from nltk.corpus import stopwords\n",
    "from nltk.stem.isri import ISRIStemmer\n"
   ]
  },
  {
   "cell_type": "markdown",
   "metadata": {},
   "source": [
    "# Arabic Text Preprocessing"
   ]
  },
  {
   "cell_type": "code",
   "execution_count": null,
   "metadata": {},
   "outputs": [],
   "source": [
    "# Read the dataset\n",
    "dataset = hf.read_file('dataset/train.txt')\n",
    "\n",
    "\n",
    "arabic_letters = hf.read_pickle('Delivery/arabic_letters.pickle')\n",
    "\n",
    "\n",
    "diacritics = hf.read_pickle('Delivery/diacritics.pickle')\n",
    "\n",
    "diacritics_to_id = hf.read_pickle('Delivery/diacritics2id.pickle')\n",
    "print(diacritics_to_id)\n"
   ]
  },
  {
   "cell_type": "code",
   "execution_count": null,
   "metadata": {},
   "outputs": [],
   "source": []
  },
  {
   "cell_type": "code",
   "execution_count": null,
   "metadata": {},
   "outputs": [],
   "source": [
    "# Preprocess the dataset using bert tokenizer\n",
    "# tokenized_text = tokenizer.tokenize(dataset)\n",
    "# hf.write_pickle('tokenized_text.pickle', tokenized_text)\n",
    "\n",
    "tokenized_sentences = sent_tokenize(dataset)\n",
    "hf.write_pickle('tokenized_text_nltk.pickle', tokenized_sentences)"
   ]
  },
  {
   "cell_type": "code",
   "execution_count": null,
   "metadata": {},
   "outputs": [],
   "source": [
    "bert = hf.read_pickle('tokenized_text.pickle')  # bert tokenized text\n",
    "nltk = hf.read_pickle('tokenized_text_nltk.pickle')  # nltk tokenized text\n",
    "\n",
    "print(bert[:1000])\n",
    "print(nltk[:1000])"
   ]
  },
  {
   "cell_type": "code",
   "execution_count": null,
   "metadata": {},
   "outputs": [],
   "source": [
    "# import re\n",
    "\n",
    "# Clean the original dataset\n",
    "cleaned_dataset_with_diacritics = hf.clean_dataset(dataset, remove_diacritics=False)\n",
    "cleaned_dataset = hf.clean_dataset(dataset, remove_diacritics=True)\n",
    "hf.write_file('Delivery/cleaned_dataset.txt', cleaned_dataset)\n",
    "hf.write_file('Delivery/cleaned_dataset_with_diacritics.txt', cleaned_dataset_with_diacritics)\n",
    "\n"
   ]
  },
  {
   "cell_type": "code",
   "execution_count": null,
   "metadata": {},
   "outputs": [],
   "source": [
    "def split_arabic_sentences(text):\n",
    "   \n",
    "    pattern = r'(?<=[.؟!,؛])'\n",
    "\n",
    "    # Split the text into sentences based on the pattern\n",
    "    sentences = re.split(pattern, text)\n",
    "    # remove punctuations\n",
    "    sentences = [re.sub(r'[.؟!،؛]', '', sent) for sent in sentences]\n",
    "    sentences = [re.sub(r'\\s+', ' ', sent) for sent in sentences]\n",
    "    sentences = filter(lambda sentences: sentences.strip(), sentences)\n",
    "\n",
    "    return sentences \n",
    "\n",
    "\n",
    "def append_to_file(file_path, content):\n",
    "    with open(file_path, 'a', encoding='utf-8') as file:\n",
    "        file.write(content.strip() + '\\n')\n",
    "\n",
    "\n",
    "sentences = split_arabic_sentences(cleaned_dataset)\n",
    "\n",
    "\n",
    "for s in sentences:\n",
    "    append_to_file('Delivery/sentences.txt', s)\n",
    "\n",
    "\n"
   ]
  },
  {
   "cell_type": "code",
   "execution_count": 187,
   "metadata": {},
   "outputs": [
    {
     "ename": "KeyboardInterrupt",
     "evalue": "",
     "output_type": "error",
     "traceback": [
      "\u001b[1;31m---------------------------------------------------------------------------\u001b[0m",
      "\u001b[1;31mKeyboardInterrupt\u001b[0m                         Traceback (most recent call last)",
      "Cell \u001b[1;32mIn [187], line 3\u001b[0m\n\u001b[0;32m      1\u001b[0m \u001b[38;5;28;01mfrom\u001b[39;00m \u001b[38;5;21;01mtqdm\u001b[39;00m \u001b[38;5;28;01mimport\u001b[39;00m tqdm\n\u001b[1;32m----> 3\u001b[0m diacritized_sentences \u001b[38;5;241m=\u001b[39m \u001b[43msplit_arabic_sentences\u001b[49m\u001b[43m(\u001b[49m\u001b[43mcleaned_dataset_with_diacritics\u001b[49m\u001b[43m)\u001b[49m\n\u001b[0;32m      4\u001b[0m \u001b[38;5;28;01mfor\u001b[39;00m s \u001b[38;5;129;01min\u001b[39;00m diacritized_sentences:\n\u001b[0;32m      5\u001b[0m     append_to_file(\u001b[38;5;124m'\u001b[39m\u001b[38;5;124mDelivery/diacritized_sentences.txt\u001b[39m\u001b[38;5;124m'\u001b[39m, s)\n",
      "Cell \u001b[1;32mIn [171], line 6\u001b[0m, in \u001b[0;36msplit_arabic_sentences\u001b[1;34m(text)\u001b[0m\n\u001b[0;32m      3\u001b[0m pattern \u001b[38;5;241m=\u001b[39m \u001b[38;5;124mr\u001b[39m\u001b[38;5;124m'\u001b[39m\u001b[38;5;124m(?<=[.؟!,؛])\u001b[39m\u001b[38;5;124m'\u001b[39m\n\u001b[0;32m      5\u001b[0m \u001b[38;5;66;03m# Split the text into sentences based on the pattern\u001b[39;00m\n\u001b[1;32m----> 6\u001b[0m sentences \u001b[38;5;241m=\u001b[39m \u001b[43mre\u001b[49m\u001b[38;5;241;43m.\u001b[39;49m\u001b[43msplit\u001b[49m\u001b[43m(\u001b[49m\u001b[43mpattern\u001b[49m\u001b[43m,\u001b[49m\u001b[43m \u001b[49m\u001b[43mtext\u001b[49m\u001b[43m)\u001b[49m\n\u001b[0;32m      7\u001b[0m \u001b[38;5;66;03m# remove punctuations\u001b[39;00m\n\u001b[0;32m      8\u001b[0m sentences \u001b[38;5;241m=\u001b[39m [re\u001b[38;5;241m.\u001b[39msub(\u001b[38;5;124mr\u001b[39m\u001b[38;5;124m'\u001b[39m\u001b[38;5;124m[.؟!،؛]\u001b[39m\u001b[38;5;124m'\u001b[39m, \u001b[38;5;124m'\u001b[39m\u001b[38;5;124m'\u001b[39m, sent) \u001b[38;5;28;01mfor\u001b[39;00m sent \u001b[38;5;129;01min\u001b[39;00m sentences]\n",
      "\u001b[1;31mKeyboardInterrupt\u001b[0m: "
     ]
    }
   ],
   "source": [
    "\n",
    "\n",
    "diacritized_sentences = split_arabic_sentences(cleaned_dataset_with_diacritics)\n",
    "for s in diacritized_sentences:\n",
    "    append_to_file('Delivery/diacritized_sentences.txt', s)\n"
   ]
  },
  {
   "cell_type": "code",
   "execution_count": 177,
   "metadata": {},
   "outputs": [
    {
     "name": "stdout",
     "output_type": "stream",
     "text": [
      "[34, 28, 34, 30, 33, 0, 30, 18, 31, 10, 33, 0, 30, 31, 7, 0, 28, 30, 32, 7, 0, 36, 17, 36, 15, 0, 28, 34, 30, 33]\n",
      "[0, 0, 6, 2, 2, 15, 0, 4, 0, 6, 2, 15, 4, 0, 14, 15, 2, 6, 0, 14, 15, 2, 4, 14, 2, 15, 0, 6, 0, 2]\n",
      "30\n",
      "30\n",
      "36\n"
     ]
    }
   ],
   "source": [
    "import torch\n",
    "import torch.nn as nn\n",
    "import torch.optim as optim\n",
    "from torch.utils.data import Dataset, DataLoader\n",
    "from pyarabic import araby\n",
    "\n",
    "\n",
    "def get_diacritics(text,chars,diacritics2id):\n",
    "    text = list(text)\n",
    "    string = ''\n",
    "    diacritics = []\n",
    "    counter = 0 \n",
    "    for char in text:\n",
    "        if char == ' ':\n",
    "            # print('space ////////////////////////////////////')\n",
    "            # print(f'{string} appeneed to diacritics list space condition')\n",
    "            diacritics.append(diacritics_to_id[string])\n",
    "            diacritics.append(15)\n",
    "            string = ''\n",
    "            counter += 1\n",
    "            continue\n",
    "    \n",
    "        if char not in chars:\n",
    "            # print(f\"diacritic {char}\")\n",
    "            string += char\n",
    "            # print('concatenated string',string)\n",
    "        else:\n",
    "            # print('regular char ',char)\n",
    "            if text[counter - 1] in chars:\n",
    "                # print(f'{string} appeneed to diacritics list counter condition')\n",
    "                diacritics.append(diacritics2id[string])\n",
    "                string = ''\n",
    "            elif string != '':\n",
    "                # print(f'{string} appeneed to diacritics list normal condidition')\n",
    "                diacritics.append(diacritics2id[string])\n",
    "    \n",
    "            string = ''\n",
    "\n",
    "        counter += 1    \n",
    "\n",
    "    return diacritics\n",
    "\n",
    "def get_tashkeel(text,char,diacritics2id):\n",
    "    diacritics = get_diacritics(text,char,diacritics2id)\n",
    "    if text[-1] not in char:\n",
    "        diacritics.append(diacritics2id[text[-1]])\n",
    "    return diacritics\n",
    "\n",
    "        \n",
    "            \n",
    "sen = \"وقوله لزمته لما قلنا يريد قوله\" \n",
    "sen = [char_to_idx[char] for char in sen]\n",
    "\n",
    "undiacritized_sentences = [\"محمد\", \"جمال\", \"علي\"]\n",
    "\n",
    "\n",
    "\n",
    "chars = sorted(arabic_letters) \n",
    "char_to_idx = {char: idx + 1 for idx, char in enumerate(chars)}  # Assigning 0 for padding\n",
    "char_to_idx[' '] = 0\n",
    "idx_to_char = {idx: char for char, idx in char_to_idx.items()}\n",
    "idx_to_char[0] = ' ' \n",
    "undiacritized_sequences = [[char_to_idx[char] for char in sentence] for sentence in undiacritized_sentences]\n",
    "# diacritic_labels = [get_diacritics(text,chars,diacritics_to_id) for text in diacritized_sentences]\n",
    "diacritic_labels = get_tashkeel(\"وَقَوْلُهُ لَزِمَتْهُ لِمَا قُلْنَا يُرِيدُ قَوْلَهُ\",chars,diacritics_to_id)\n",
    "print(sen)\n",
    "print(diacritic_labels)\n",
    "print(len(sen))\n",
    "print(len(diacritic_labels))\n",
    "print(len(chars))\n",
    "\n",
    "\n",
    "\n",
    "\n"
   ]
  },
  {
   "cell_type": "code",
   "execution_count": 229,
   "metadata": {},
   "outputs": [],
   "source": [
    "class TashkeelDataset(torch.utils.data.Dataset):\n",
    "\n",
    "  def __init__(self, x, y, pad):\n",
    "    \"\"\"\n",
    "    This is the constructor of the NERDataset\n",
    "    Inputs:\n",
    "    - x: a list of lists where each list contains the ids of the tokens\n",
    "    - y: a list of lists where each list contains the label of each token in the sentence\n",
    "    - pad: the id of the <PAD> token (to be used for padding all sentences and labels to have the same length)\n",
    "    \"\"\"\n",
    "    ##################### TODO: create two tensors one for x and the other for labels ###############################\n",
    "    max_size = max([len(i) for i in x]) # find the max length of the sentences \n",
    "    print('The max size is', max_size)  \n",
    "    self.x = torch.tensor([i + [pad] * (max_size - len(i)) for i in x]) # pad the sentences with <PAD> token\n",
    "    self.y = torch.tensor([i + [15] * (max_size - len(i)) for i in y]) # pad the labels with <PAD> token\n",
    "    #################################################################################################################\n",
    "\n",
    "  def __len__(self):\n",
    "    \"\"\"\n",
    "    This function should return the length of the dataset (the number of sentences)\n",
    "    \"\"\"\n",
    "    ###################### TODO: return the length of the dataset #############################\n",
    "    return len(self.x)\n",
    "\n",
    "    ###########################################################################################\n",
    "\n",
    "  def __getitem__(self, idx):\n",
    "    \"\"\"\n",
    "    This function returns a subset of the whole dataset\n",
    "    \"\"\"\n",
    "    ###################### TODO: return a tuple of x and y ###################################\n",
    "    return (self.x[idx], self.y[idx])\n",
    "    ##########################################################################################\n",
    "\n",
    "\n",
    "\n"
   ]
  },
  {
   "cell_type": "code",
   "execution_count": 230,
   "metadata": {},
   "outputs": [],
   "source": [
    "gomal = hf.read_file('Delivery/sentences.txt')\n",
    "gomal_tashkeel = hf.read_file('Delivery/diacritized_sentences.txt')\n",
    "\n",
    "x = []\n",
    "for line in gomal.splitlines():\n",
    "    x.append([char_to_idx[char] for char in line])\n",
    "\n",
    "y = []\n",
    "for line in gomal_tashkeel.splitlines():\n",
    "    y.append(get_tashkeel(line,chars,diacritics_to_id))\n",
    "\n",
    "\n"
   ]
  },
  {
   "cell_type": "code",
   "execution_count": 238,
   "metadata": {},
   "outputs": [
    {
     "name": "stdout",
     "output_type": "stream",
     "text": [
      "425\n",
      "425\n",
      "1\n",
      "15\n"
     ]
    }
   ],
   "source": [
    "max_label_size = max([len(i) for i in y[0:8]])\n",
    "max_x_size = max([len(i) for i in x[0:8]])\n",
    "print(max_label_size)\n",
    "print(max_x_size)\n",
    "for i in range(0,8):\n",
    "    if len(y[i]) == max_label_size:\n",
    "        print(i)\n",
    "        \n",
    "print(len(diacritics_to_id))        "
   ]
  },
  {
   "cell_type": "code",
   "execution_count": 239,
   "metadata": {},
   "outputs": [
    {
     "name": "stdout",
     "output_type": "stream",
     "text": [
      "The max size is 425\n",
      "torch.Size([5, 425]) torch.Size([5, 425]) torch.Size([3, 425]) torch.Size([3, 425])\n",
      "tensor([28, 34, 30, 33,  0,  3, 34,  0, 28, 23, 25,  0,  7, 30,  3, 34, 30,  0,\n",
      "        36, 15, 33,  0,  5, 30, 14,  0, 28,  7, 30,  0,  7, 30, 18, 17, 29, 20,\n",
      "        36,  0,  7,  8, 32,  0, 25, 17, 27,  9,  0, 28, 34, 30, 33,  0,  8, 30,\n",
      "        27, 24,  0, 36, 28, 10, 22, 36, 33,  0, 29,  5, 32, 29,  7, 17,  0, 26,\n",
      "        36, 17,  0, 13, 15, 36, 11,  0,  8,  7, 30,  5, 19, 30,  7, 31,  0, 34,\n",
      "        12, 34,  8,  0, 31,  7,  0, 25, 30, 31,  0, 34, 12, 34,  8, 33,  0, 31,\n",
      "        32,  0,  7, 30, 15, 36, 32,  0, 22, 17, 34, 17,  9,  0, 29,  5, 30, 28,\n",
      "         7,  1,  0, 31, 21, 13, 27,  0,  8, 28, 16, 17,  0, 34, 20, 15,  0, 18,\n",
      "        32,  7, 17,  0,  7,  8, 32,  0, 25, 17, 27,  9,  0, 28, 34, 30,  0,  7,\n",
      "         8, 32,  0, 20,  7, 19,  0,  3, 34,  0,  8, 27, 25, 30,  0, 36, 10, 22,\n",
      "        31, 32, 33,  0, 33, 34,  0, 29, 30,  8, 19,  0,  7, 30, 18, 32,  7, 17,\n",
      "         0, 34,  5, 30, 28,  7,  1,  0,  7, 30, 31, 21, 13, 27,  0, 27, 36,  0,\n",
      "        21, 17, 36, 13,  0,  7, 30, 32, 12,  7, 19,  9,  0, 34,  7, 30, 19, 12,\n",
      "        34, 15,  0, 30, 30, 21, 32, 31,  0, 34, 32, 13, 34,  0, 16, 30, 29,  0,\n",
      "        34, 19, 13, 17,  0, 31, 13, 31, 15,  0, 28, 34, 30,  0, 31,  7, 30, 29,\n",
      "         0, 34,  3, 21, 13,  7,  8, 33,  0,  3, 32,  0,  7, 30, 19,  7, 13, 17,\n",
      "         0, 29,  7, 27, 17,  0,  8,  7, 30, 30, 33,  0, 10, 25,  7, 30, 35,  0,\n",
      "        28,  7, 30,  0, 31,  7, 30, 29,  0, 33, 34,  0, 29,  7, 30, 18, 32, 15,\n",
      "        36, 28,  0,  5, 16,  7,  0, 25, 31, 30,  0,  7, 30, 19, 13, 17,  0,  8,\n",
      "        32, 27, 19, 33,  0, 28, 10, 30,  0, 34, 30, 31,  0, 36, 19, 10, 10,  8,\n",
      "        40, 40, 40, 40, 40, 40, 40, 40, 40, 40, 40, 40, 40, 40, 40, 40, 40, 40,\n",
      "        40, 40, 40, 40, 40, 40, 40, 40, 40, 40, 40, 40, 40, 40, 40, 40, 40, 40,\n",
      "        40, 40, 40, 40, 40, 40, 40, 40, 40, 40, 40, 40, 40, 40, 40, 40, 40, 40,\n",
      "        40, 40, 40, 40, 40, 40, 40, 40, 40, 40, 40]) \n",
      " tensor([ 0,  6,  2,  2, 15,  0,  6, 15,  0,  0,  0, 15, 14,  6,  0,  8,  2, 15,\n",
      "         0,  0,  2, 15, 14,  0,  6, 15,  0, 14,  0, 15, 14, 14,  8,  6,  0,  4,\n",
      "        10, 15, 14,  6,  2, 15,  0,  0,  0,  0, 15,  0,  6,  2,  2, 15,  4,  0,\n",
      "         6,  5, 15,  0,  6,  0,  4, 14, 14, 15,  0,  4,  6,  0, 14,  4, 15,  0,\n",
      "         6,  4, 15,  0,  4, 14,  5, 15,  4, 14,  6,  4,  6,  0, 14,  4, 15,  2,\n",
      "         2, 14,  0, 15,  0, 14, 15,  2,  4,  0, 15,  2,  2, 14,  2,  2, 15,  4,\n",
      "         6, 15, 14, 14, 12, 14,  4, 15,  0,  2, 14,  0,  1, 15,  0,  4,  6,  0,\n",
      "        14,  4, 15,  2,  6,  0,  5, 15,  4,  0,  0,  5, 15,  0,  0, 12, 15,  2,\n",
      "         8, 14,  5, 15, 14,  6,  2, 15,  0,  0,  0,  0, 15,  0,  6,  2, 15, 14,\n",
      "         6,  4, 15,  0, 14,  5, 15,  0,  6, 15,  4,  4,  6,  5, 15,  0,  0,  0,\n",
      "         8,  2,  2, 15,  2,  0, 15,  0,  2,  6,  4, 15, 14, 14, 10,  8, 14,  4,\n",
      "        15,  0,  4,  6,  0, 14,  4, 15, 14,  6,  2,  6,  0,  4, 15,  4, 14, 15,\n",
      "         0,  4, 14,  4, 15, 14, 14,  8,  0, 14,  0,  4, 15,  0, 14, 14, 10,  2,\n",
      "        14,  4, 15,  4, 14,  8,  0,  4, 15,  0,  0,  6,  4, 15,  0,  4,  0, 15,\n",
      "         0,  4,  6,  5, 15,  2,  0,  8,  3, 15,  0,  6,  2, 15,  0, 14,  4,  5,\n",
      "        15,  0,  0,  6,  0, 14,  4,  4, 15,  0,  8, 15, 14, 14,  8, 14,  4,  0,\n",
      "        15,  0, 14,  4,  3, 15,  4,  0, 14,  8,  4, 15,  0,  0, 14,  0, 14, 15,\n",
      "         0, 14,  0, 15,  0, 14,  4,  3, 15,  2,  0, 15,  0, 14, 14, 12,  6,  4,\n",
      "        14,  4, 15, 14,  0, 14, 15,  0,  4,  0, 15, 14, 14, 12,  6,  0, 15,  4,\n",
      "         0,  6,  4,  4, 15,  2,  4,  0, 15,  0,  0,  6, 15,  2,  6,  0,  0,  6,\n",
      "        15, 15, 15, 15, 15, 15, 15, 15, 15, 15, 15, 15, 15, 15, 15, 15, 15, 15,\n",
      "        15, 15, 15, 15, 15, 15, 15, 15, 15, 15, 15, 15, 15, 15, 15, 15, 15, 15,\n",
      "        15, 15, 15, 15, 15, 15, 15, 15, 15, 15, 15, 15, 15, 15, 15, 15, 15, 15,\n",
      "        15, 15, 15, 15, 15, 15, 15, 15, 15, 15, 15])\n"
     ]
    }
   ],
   "source": [
    "batch_size = 5\n",
    "mini_sentences = x[0: 8]\n",
    "mini_labels = y[0: 8]\n",
    "mini_dataset = TashkeelDataset(mini_sentences, mini_labels, 40)\n",
    "dummy_dataloader = torch.utils.data.DataLoader(mini_dataset, batch_size=5)\n",
    "dg = iter(dummy_dataloader)\n",
    "X1, Y1 = next(dg)\n",
    "X2, Y2 = next(dg)\n",
    "print(Y1.shape, X1.shape, Y2.shape, X2.shape)\n",
    "print(X1[0][:], \"\\n\", Y1[0][:])"
   ]
  },
  {
   "cell_type": "code",
   "execution_count": 247,
   "metadata": {},
   "outputs": [],
   "source": [
    "class Tashkeel(nn.Module):\n",
    "  def __init__(self, vocab_size=37, embedding_dim=37, hidden_size=50, n_classes=16):\n",
    "    \"\"\"\n",
    "    character level tashkeel model\n",
    "    The constructor of our NER model\n",
    "    Inputs:\n",
    "    - vocab_size: the number of unique characters in the dataset\n",
    "    - embedding_dim: the embedding dimension\n",
    "    - n_classes: the number of final classes (tags)\n",
    "    \"\"\"\n",
    "    super(Tashkeel, self).__init__()\n",
    "    ####################### TODO: Create the layers of your model #######################################\n",
    "    # (1) Create the embedding layer\n",
    "    self.embedding = nn.Embedding(vocab_size, embedding_dim)\n",
    "\n",
    "    # (2) Create an LSTM layer with hidden size = hidden_size and batch_first = True\n",
    "    self.lstm = nn.LSTM(embedding_dim, hidden_size, batch_first=True,bidirectional=True)\n",
    "\n",
    "    # (3) Create a linear layer with number of neorons = n_classes\n",
    "    self.linear = nn.Linear(100, n_classes)\n",
    "    #####################################################################################################\n",
    "\n",
    "  def forward(self, sentences):\n",
    "    \"\"\"\n",
    "    This function does the forward pass of our model\n",
    "    Inputs:\n",
    "    - sentences: tensor of shape (batch_size, max_length)\n",
    "\n",
    "    Returns:\n",
    "    - final_output: tensor of shape (batch_size, max_length, n_classes)\n",
    "    \"\"\"\n",
    "\n",
    "    final_output = None\n",
    "    ######################### TODO: implement the forward pass ####################################\n",
    "    # (1) pass the sentences through the embedding layer to get the embeddings\n",
    "\n",
    "    final_output = self.embedding(sentences)\n",
    "    # print('op of embedding layer: ', final_output.shape)\n",
    "    final_output, _ = self.lstm(final_output)\n",
    "    # print('op of lstm layer: ',final_output.shape)\n",
    "    final_output = self.linear(final_output)\n",
    "    # print('op of linear layer: ',final_output.shape)\n",
    "    # print(_)\n",
    "    ###############################################################################################\n",
    "    return final_output"
   ]
  },
  {
   "cell_type": "code",
   "execution_count": 248,
   "metadata": {},
   "outputs": [
    {
     "name": "stdout",
     "output_type": "stream",
     "text": [
      "Tashkeel(\n",
      "  (embedding): Embedding(37, 37)\n",
      "  (lstm): LSTM(37, 50, batch_first=True, bidirectional=True)\n",
      "  (linear): Linear(in_features=100, out_features=16, bias=True)\n",
      ")\n"
     ]
    }
   ],
   "source": [
    "model = Tashkeel()\n",
    "print(model)"
   ]
  },
  {
   "cell_type": "code",
   "execution_count": 249,
   "metadata": {},
   "outputs": [],
   "source": [
    "def train(model, train_dataset, batch_size=10, epochs=5, learning_rate=0.01):\n",
    "  \"\"\"\n",
    "  This function implements the training logic\n",
    "  Inputs:\n",
    "  - model: the model ot be trained\n",
    "  - train_dataset: the training set of type NERDataset\n",
    "  - batch_size: integer represents the number of examples per step\n",
    "  - epochs: integer represents the total number of epochs (full training pass)\n",
    "  - learning_rate: the learning rate to be used by the optimizer\n",
    "  \"\"\"\n",
    "\n",
    "  ############################## TODO: replace the Nones in the following code ##################################\n",
    "  \n",
    "  # (1) create the dataloader of the training set (make the shuffle=True)\n",
    "  train_dataloader = torch.utils.data.DataLoader(train_dataset, batch_size=5, shuffle=True)\n",
    "\n",
    "\n",
    "  # (2) make the criterion cross entropy loss\n",
    "  criterion = nn.CrossEntropyLoss()\n",
    "\n",
    "  # (3) create the optimizer (Adam)\n",
    "  optimizer = torch.optim.Adam(model.parameters(), lr=learning_rate)\n",
    "\n",
    "  # GPU configuration\n",
    "  use_cuda = torch.cuda.is_available()\n",
    "  device = torch.device(\"cuda\" if use_cuda else \"cpu\")\n",
    "  if use_cuda:\n",
    "    model = model.cuda()\n",
    "    criterion = criterion.cuda()\n",
    "\n",
    "  for epoch_num in range(epochs):\n",
    "    total_acc_train = 0\n",
    "    total_loss_train = 0\n",
    "\n",
    "    for train_input, train_label in tqdm(train_dataloader):\n",
    "\n",
    "      # (4) move the train input to the device\n",
    "      train_label = train_label.to(device)\n",
    "\n",
    "      # (5) move the train label to the device\n",
    "      train_input = train_input.to(device)\n",
    "\n",
    "\n",
    "      # (6) do the forward pass\n",
    "      output = model(train_input)\n",
    "      \n",
    "      # (7) loss calculation (you need to think in this part how to calculate the loss correctly)\n",
    "      \n",
    "      batch_loss = criterion(output.view(-1, 16), train_label.view(-1))\n",
    "\n",
    "      # (8) append the batch loss to the total_loss_train\n",
    "      total_loss_train += batch_loss.item()\n",
    "      \n",
    "      # (9) calculate the batch accuracy (just add the number of correct predictions)\n",
    "      acc = (output.argmax(dim=2) == train_label).sum().item()\n",
    "      total_acc_train += acc\n",
    "\n",
    "      # (10) zero your gradients\n",
    "      optimizer.zero_grad()\n",
    "\n",
    "      # (11) do the backward pass\n",
    "      batch_loss.backward()\n",
    "\n",
    "      # (12) update the weights with your optimizer\n",
    "      optimizer.step()\n",
    "      \n",
    "    # epoch loss\n",
    "    epoch_loss = total_loss_train / len(train_dataset)\n",
    "\n",
    "    # (13) calculate the accuracy\n",
    "    epoch_acc = total_acc_train / (len(train_dataset) * len(train_dataset[0][0]))\n",
    "    print(\n",
    "        f'Epochs: {epoch_num + 1} | Train Loss: {epoch_loss} \\\n",
    "        | Train Accuracy: {epoch_acc}\\n')\n"
   ]
  },
  {
   "cell_type": "code",
   "execution_count": 257,
   "metadata": {},
   "outputs": [
    {
     "name": "stdout",
     "output_type": "stream",
     "text": [
      "The max size is 814\n",
      "The max size is 851\n"
     ]
    }
   ],
   "source": [
    "train_dataset = TashkeelDataset(x, y, 0)\n"
   ]
  },
  {
   "cell_type": "code",
   "execution_count": 251,
   "metadata": {},
   "outputs": [
    {
     "name": "stderr",
     "output_type": "stream",
     "text": [
      "100%|██████████| 10/10 [00:01<00:00,  9.15it/s]\n"
     ]
    },
    {
     "name": "stdout",
     "output_type": "stream",
     "text": [
      "Epochs: 1 | Train Loss: 0.20267097234725953         | Train Accuracy: 0.7248402948402949\n",
      "\n"
     ]
    },
    {
     "name": "stderr",
     "output_type": "stream",
     "text": [
      "100%|██████████| 10/10 [00:01<00:00,  7.63it/s]\n"
     ]
    },
    {
     "name": "stdout",
     "output_type": "stream",
     "text": [
      "Epochs: 2 | Train Loss: 0.08530916124582291         | Train Accuracy: 0.8774447174447174\n",
      "\n"
     ]
    },
    {
     "name": "stderr",
     "output_type": "stream",
     "text": [
      "100%|██████████| 10/10 [00:00<00:00, 10.36it/s]\n"
     ]
    },
    {
     "name": "stdout",
     "output_type": "stream",
     "text": [
      "Epochs: 3 | Train Loss: 0.07445384323596954         | Train Accuracy: 0.8821867321867322\n",
      "\n"
     ]
    },
    {
     "name": "stderr",
     "output_type": "stream",
     "text": [
      "100%|██████████| 10/10 [00:01<00:00,  9.63it/s]\n"
     ]
    },
    {
     "name": "stdout",
     "output_type": "stream",
     "text": [
      "Epochs: 4 | Train Loss: 0.07002351671457291         | Train Accuracy: 0.8837592137592137\n",
      "\n"
     ]
    },
    {
     "name": "stderr",
     "output_type": "stream",
     "text": [
      "100%|██████████| 10/10 [00:01<00:00,  7.38it/s]"
     ]
    },
    {
     "name": "stdout",
     "output_type": "stream",
     "text": [
      "Epochs: 5 | Train Loss: 0.06565391570329666         | Train Accuracy: 0.8919656019656019\n",
      "\n"
     ]
    },
    {
     "name": "stderr",
     "output_type": "stream",
     "text": [
      "\n"
     ]
    }
   ],
   "source": [
    "from tqdm import tqdm\n",
    "train(model, train_dataset)"
   ]
  },
  {
   "cell_type": "code",
   "execution_count": 258,
   "metadata": {},
   "outputs": [],
   "source": [
    "def evaluate(model, test_dataset, batch_size=5):\n",
    "  \"\"\"\n",
    "  This function takes a NER model and evaluates its performance (accuracy) on a test data\n",
    "  Inputs:\n",
    "  - model: a NER model\n",
    "  - test_dataset: dataset of type NERDataset\n",
    "  \"\"\"\n",
    "  ########################### TODO: Replace the Nones in the following code ##########################\n",
    "\n",
    "  # (1) create the test data loader\n",
    "  test_dataloader = torch.utils.data.DataLoader(test_dataset, batch_size=batch_size)\n",
    "\n",
    "  # GPU Configuration\n",
    "  use_cuda = torch.cuda.is_available()\n",
    "  device = torch.device(\"cuda\" if use_cuda else \"cpu\")\n",
    "  if use_cuda:\n",
    "    model = model.cuda()\n",
    "\n",
    "  total_acc_test = 0\n",
    "  \n",
    "  # (2) disable gradients\n",
    "  with torch.no_grad():\n",
    "\n",
    "    for test_input, test_label in tqdm(test_dataloader):\n",
    "      # (3) move the test input to the device\n",
    "      test_label = test_label.to(device) \n",
    "\n",
    "      # (4) move the test label to the device\n",
    "      test_input = test_input.to(device)\n",
    "\n",
    "      # (5) do the forward pass\n",
    "      output = model(test_input)\n",
    "\n",
    "      # accuracy calculation (just add the correct predicted items to total_acc_test)\n",
    "      acc = (output.argmax(dim=2) == test_label).sum().item()\n",
    "      total_acc_test += acc\n",
    "    \n",
    "    # (6) calculate the over all accuracy\n",
    "    total_acc_test /= (len(test_dataset) * len(test_dataset[0][0]))\n",
    "  ##################################################################################################\n",
    "\n",
    "  \n",
    "  print(f'\\nTest Accuracy: {total_acc_test}')"
   ]
  },
  {
   "cell_type": "code",
   "execution_count": 259,
   "metadata": {},
   "outputs": [
    {
     "name": "stderr",
     "output_type": "stream",
     "text": [
      "100%|██████████| 10/10 [00:00<00:00, 12.61it/s]"
     ]
    },
    {
     "name": "stdout",
     "output_type": "stream",
     "text": [
      "\n",
      "Test Accuracy: 0.8622091656874266\n"
     ]
    },
    {
     "name": "stderr",
     "output_type": "stream",
     "text": [
      "\n"
     ]
    }
   ],
   "source": [
    "evaluate(model, test_dataset)"
   ]
  },
  {
   "cell_type": "code",
   "execution_count": null,
   "metadata": {},
   "outputs": [],
   "source": []
  }
 ],
 "metadata": {
  "kernelspec": {
   "display_name": "Python 3",
   "language": "python",
   "name": "python3"
  },
  "language_info": {
   "codemirror_mode": {
    "name": "ipython",
    "version": 3
   },
   "file_extension": ".py",
   "mimetype": "text/x-python",
   "name": "python",
   "nbconvert_exporter": "python",
   "pygments_lexer": "ipython3",
   "version": "3.10.6"
  }
 },
 "nbformat": 4,
 "nbformat_minor": 2
}
